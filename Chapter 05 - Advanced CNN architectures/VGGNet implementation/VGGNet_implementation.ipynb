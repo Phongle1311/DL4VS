{
  "nbformat": 4,
  "nbformat_minor": 0,
  "metadata": {
    "colab": {
      "provenance": []
    },
    "kernelspec": {
      "name": "python3",
      "display_name": "Python 3"
    },
    "language_info": {
      "name": "python"
    }
  },
  "cells": [
    {
      "cell_type": "markdown",
      "source": [
        "# **DEEP LEARNING FOR COMPUTER SYSTEM**\n",
        "# **Chapter 5: The Advanced CNN architectures**\n",
        "\n",
        "\n",
        "## **VGGNet implementation with Keras**\n",
        "\n",
        "---"
      ],
      "metadata": {
        "id": "0XzVvetbZXlk"
      }
    },
    {
      "cell_type": "markdown",
      "source": [
        "## 1. Import Library"
      ],
      "metadata": {
        "id": "-CgOTsr1ZzLh"
      }
    },
    {
      "cell_type": "code",
      "execution_count": 2,
      "metadata": {
        "id": "5DHtnlG_ZQye"
      },
      "outputs": [],
      "source": [
        "from keras.models import Sequential\n",
        "from keras.layers import Conv2D, MaxPooling2D, Dense, Flatten, Dropout"
      ]
    },
    {
      "cell_type": "markdown",
      "source": [
        "## 2. VGG16"
      ],
      "metadata": {
        "id": "3V1NRfg4aAqQ"
      }
    },
    {
      "cell_type": "code",
      "source": [
        "vgg16 = Sequential(name='Vggnet16')\n",
        "\n",
        "# Block 1\n",
        "vgg16.add(Conv2D(64, 3, padding='same', input_shape=(224, 224, 3),\n",
        "                 activation='relu'))\n",
        "vgg16.add(Conv2D(64, 3, padding='same', activation='relu'))\n",
        "vgg16.add(MaxPooling2D(2, 2))\n",
        "\n",
        "# Block 2\n",
        "vgg16.add(Conv2D(128, 3, padding='same', activation='relu'))\n",
        "vgg16.add(Conv2D(128, 3, padding='same', activation='relu'))\n",
        "vgg16.add(MaxPooling2D(2, 2))\n",
        "\n",
        "# Block 3\n",
        "vgg16.add(Conv2D(256, 3, padding='same', activation='relu'))\n",
        "vgg16.add(Conv2D(256, 3, padding='same', activation='relu'))\n",
        "vgg16.add(Conv2D(256, 3, padding='same', activation='relu'))\n",
        "vgg16.add(MaxPooling2D(2, 2))\n",
        "\n",
        "# Block 4\n",
        "vgg16.add(Conv2D(512, 3, padding='same', activation='relu'))\n",
        "vgg16.add(Conv2D(512, 3, padding='same', activation='relu'))\n",
        "vgg16.add(Conv2D(512, 3, padding='same', activation='relu'))\n",
        "vgg16.add(MaxPooling2D(2, 2))\n",
        "\n",
        "# Block 5\n",
        "vgg16.add(Conv2D(512, 3, padding='same', activation='relu'))\n",
        "vgg16.add(Conv2D(512, 3, padding='same', activation='relu'))\n",
        "vgg16.add(Conv2D(512, 3, padding='same', activation='relu'))\n",
        "vgg16.add(MaxPooling2D(2, 2))\n",
        "\n",
        "\n",
        "# Classifier Block\n",
        "vgg16.add(Flatten())\n",
        "vgg16.add(Dense(4096, activation='relu'))\n",
        "vgg16.add(Dropout(0.5))\n",
        "vgg16.add(Dense(4096, activation='relu'))\n",
        "vgg16.add(Dropout(0.5))\n",
        "vgg16.add(Dense(1000, activation='softmax'))\n",
        "\n",
        "vgg16.summary()"
      ],
      "metadata": {
        "colab": {
          "base_uri": "https://localhost:8080/"
        },
        "id": "Lp-hMlrHaDfx",
        "outputId": "55bb685b-9b77-4456-e1be-f4b90ea643b9"
      },
      "execution_count": 6,
      "outputs": [
        {
          "output_type": "stream",
          "name": "stdout",
          "text": [
            "Model: \"Vggnet16\"\n",
            "_________________________________________________________________\n",
            " Layer (type)                Output Shape              Param #   \n",
            "=================================================================\n",
            " conv2d_13 (Conv2D)          (None, 224, 224, 64)      1792      \n",
            "                                                                 \n",
            " conv2d_14 (Conv2D)          (None, 224, 224, 64)      36928     \n",
            "                                                                 \n",
            " max_pooling2d_5 (MaxPoolin  (None, 112, 112, 64)      0         \n",
            " g2D)                                                            \n",
            "                                                                 \n",
            " conv2d_15 (Conv2D)          (None, 112, 112, 128)     73856     \n",
            "                                                                 \n",
            " conv2d_16 (Conv2D)          (None, 112, 112, 128)     147584    \n",
            "                                                                 \n",
            " max_pooling2d_6 (MaxPoolin  (None, 56, 56, 128)       0         \n",
            " g2D)                                                            \n",
            "                                                                 \n",
            " conv2d_17 (Conv2D)          (None, 56, 56, 256)       295168    \n",
            "                                                                 \n",
            " conv2d_18 (Conv2D)          (None, 56, 56, 256)       590080    \n",
            "                                                                 \n",
            " conv2d_19 (Conv2D)          (None, 56, 56, 256)       590080    \n",
            "                                                                 \n",
            " max_pooling2d_7 (MaxPoolin  (None, 28, 28, 256)       0         \n",
            " g2D)                                                            \n",
            "                                                                 \n",
            " conv2d_20 (Conv2D)          (None, 28, 28, 512)       1180160   \n",
            "                                                                 \n",
            " conv2d_21 (Conv2D)          (None, 28, 28, 512)       2359808   \n",
            "                                                                 \n",
            " conv2d_22 (Conv2D)          (None, 28, 28, 512)       2359808   \n",
            "                                                                 \n",
            " max_pooling2d_8 (MaxPoolin  (None, 14, 14, 512)       0         \n",
            " g2D)                                                            \n",
            "                                                                 \n",
            " conv2d_23 (Conv2D)          (None, 14, 14, 512)       2359808   \n",
            "                                                                 \n",
            " conv2d_24 (Conv2D)          (None, 14, 14, 512)       2359808   \n",
            "                                                                 \n",
            " conv2d_25 (Conv2D)          (None, 14, 14, 512)       2359808   \n",
            "                                                                 \n",
            " max_pooling2d_9 (MaxPoolin  (None, 7, 7, 512)         0         \n",
            " g2D)                                                            \n",
            "                                                                 \n",
            " flatten_1 (Flatten)         (None, 25088)             0         \n",
            "                                                                 \n",
            " dense_3 (Dense)             (None, 4096)              102764544 \n",
            "                                                                 \n",
            " dropout_2 (Dropout)         (None, 4096)              0         \n",
            "                                                                 \n",
            " dense_4 (Dense)             (None, 4096)              16781312  \n",
            "                                                                 \n",
            " dropout_3 (Dropout)         (None, 4096)              0         \n",
            "                                                                 \n",
            " dense_5 (Dense)             (None, 1000)              4097000   \n",
            "                                                                 \n",
            "=================================================================\n",
            "Total params: 138357544 (527.79 MB)\n",
            "Trainable params: 138357544 (527.79 MB)\n",
            "Non-trainable params: 0 (0.00 Byte)\n",
            "_________________________________________________________________\n"
          ]
        }
      ]
    },
    {
      "cell_type": "markdown",
      "source": [
        "## 3. VGG19"
      ],
      "metadata": {
        "id": "J_2A7tSh0X7A"
      }
    },
    {
      "cell_type": "code",
      "source": [
        "vgg19 = Sequential(name='Vggnet19')\n",
        "\n",
        "# Block 1\n",
        "vgg19.add(Conv2D(64, 3, padding='same', input_shape=(224, 224, 3),\n",
        "                 activation='relu'))\n",
        "vgg19.add(Conv2D(64, 3, padding='same', activation='relu'))\n",
        "vgg19.add(MaxPooling2D(2, 2))\n",
        "\n",
        "# Block 2\n",
        "vgg19.add(Conv2D(128, 3, padding='same', activation='relu'))\n",
        "vgg19.add(Conv2D(128, 3, padding='same', activation='relu'))\n",
        "vgg19.add(MaxPooling2D(2, 2))\n",
        "\n",
        "# Block 3\n",
        "vgg19.add(Conv2D(256, 3, padding='same', activation='relu'))\n",
        "vgg19.add(Conv2D(256, 3, padding='same', activation='relu'))\n",
        "vgg19.add(Conv2D(256, 3, padding='same', activation='relu'))\n",
        "vgg19.add(Conv2D(256, 3, padding='same', activation='relu'))\n",
        "vgg19.add(MaxPooling2D(2, 2))\n",
        "\n",
        "# Block 4\n",
        "vgg19.add(Conv2D(512, 3, padding='same', activation='relu'))\n",
        "vgg19.add(Conv2D(512, 3, padding='same', activation='relu'))\n",
        "vgg19.add(Conv2D(512, 3, padding='same', activation='relu'))\n",
        "vgg19.add(Conv2D(512, 3, padding='same', activation='relu'))\n",
        "vgg19.add(MaxPooling2D(2, 2))\n",
        "\n",
        "# Block 5\n",
        "vgg19.add(Conv2D(512, 3, padding='same', activation='relu'))\n",
        "vgg19.add(Conv2D(512, 3, padding='same', activation='relu'))\n",
        "vgg19.add(Conv2D(512, 3, padding='same', activation='relu'))\n",
        "vgg19.add(Conv2D(512, 3, padding='same', activation='relu'))\n",
        "vgg19.add(MaxPooling2D(2, 2))\n",
        "\n",
        "\n",
        "# Classifier Block\n",
        "vgg19.add(Flatten())\n",
        "vgg19.add(Dense(4096, activation='relu'))\n",
        "vgg19.add(Dropout(0.5))\n",
        "vgg19.add(Dense(4096, activation='relu'))\n",
        "vgg19.add(Dropout(0.5))\n",
        "vgg19.add(Dense(1000, activation='softmax'))\n",
        "\n",
        "vgg19.summary()"
      ],
      "metadata": {
        "colab": {
          "base_uri": "https://localhost:8080/"
        },
        "id": "xgE5lmte0IGf",
        "outputId": "9a785f6d-2883-4f53-88f4-ec9c512d24b7"
      },
      "execution_count": 7,
      "outputs": [
        {
          "output_type": "stream",
          "name": "stdout",
          "text": [
            "Model: \"Vggnet19\"\n",
            "_________________________________________________________________\n",
            " Layer (type)                Output Shape              Param #   \n",
            "=================================================================\n",
            " conv2d_26 (Conv2D)          (None, 224, 224, 64)      1792      \n",
            "                                                                 \n",
            " conv2d_27 (Conv2D)          (None, 224, 224, 64)      36928     \n",
            "                                                                 \n",
            " max_pooling2d_10 (MaxPooli  (None, 112, 112, 64)      0         \n",
            " ng2D)                                                           \n",
            "                                                                 \n",
            " conv2d_28 (Conv2D)          (None, 112, 112, 128)     73856     \n",
            "                                                                 \n",
            " conv2d_29 (Conv2D)          (None, 112, 112, 128)     147584    \n",
            "                                                                 \n",
            " max_pooling2d_11 (MaxPooli  (None, 56, 56, 128)       0         \n",
            " ng2D)                                                           \n",
            "                                                                 \n",
            " conv2d_30 (Conv2D)          (None, 56, 56, 256)       295168    \n",
            "                                                                 \n",
            " conv2d_31 (Conv2D)          (None, 56, 56, 256)       590080    \n",
            "                                                                 \n",
            " conv2d_32 (Conv2D)          (None, 56, 56, 256)       590080    \n",
            "                                                                 \n",
            " conv2d_33 (Conv2D)          (None, 56, 56, 256)       590080    \n",
            "                                                                 \n",
            " max_pooling2d_12 (MaxPooli  (None, 28, 28, 256)       0         \n",
            " ng2D)                                                           \n",
            "                                                                 \n",
            " conv2d_34 (Conv2D)          (None, 28, 28, 512)       1180160   \n",
            "                                                                 \n",
            " conv2d_35 (Conv2D)          (None, 28, 28, 512)       2359808   \n",
            "                                                                 \n",
            " conv2d_36 (Conv2D)          (None, 28, 28, 512)       2359808   \n",
            "                                                                 \n",
            " conv2d_37 (Conv2D)          (None, 28, 28, 512)       2359808   \n",
            "                                                                 \n",
            " max_pooling2d_13 (MaxPooli  (None, 14, 14, 512)       0         \n",
            " ng2D)                                                           \n",
            "                                                                 \n",
            " conv2d_38 (Conv2D)          (None, 14, 14, 512)       2359808   \n",
            "                                                                 \n",
            " conv2d_39 (Conv2D)          (None, 14, 14, 512)       2359808   \n",
            "                                                                 \n",
            " conv2d_40 (Conv2D)          (None, 14, 14, 512)       2359808   \n",
            "                                                                 \n",
            " conv2d_41 (Conv2D)          (None, 14, 14, 512)       2359808   \n",
            "                                                                 \n",
            " max_pooling2d_14 (MaxPooli  (None, 7, 7, 512)         0         \n",
            " ng2D)                                                           \n",
            "                                                                 \n",
            " flatten_2 (Flatten)         (None, 25088)             0         \n",
            "                                                                 \n",
            " dense_6 (Dense)             (None, 4096)              102764544 \n",
            "                                                                 \n",
            " dropout_4 (Dropout)         (None, 4096)              0         \n",
            "                                                                 \n",
            " dense_7 (Dense)             (None, 4096)              16781312  \n",
            "                                                                 \n",
            " dropout_5 (Dropout)         (None, 4096)              0         \n",
            "                                                                 \n",
            " dense_8 (Dense)             (None, 1000)              4097000   \n",
            "                                                                 \n",
            "=================================================================\n",
            "Total params: 143667240 (548.05 MB)\n",
            "Trainable params: 143667240 (548.05 MB)\n",
            "Non-trainable params: 0 (0.00 Byte)\n",
            "_________________________________________________________________\n"
          ]
        }
      ]
    },
    {
      "cell_type": "code",
      "source": [],
      "metadata": {
        "id": "-6fGbWap08-6"
      },
      "execution_count": null,
      "outputs": []
    }
  ]
}