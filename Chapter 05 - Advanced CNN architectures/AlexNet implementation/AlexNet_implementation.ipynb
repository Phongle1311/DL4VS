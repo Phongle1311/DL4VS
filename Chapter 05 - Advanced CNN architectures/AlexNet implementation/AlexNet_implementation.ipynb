{
  "nbformat": 4,
  "nbformat_minor": 0,
  "metadata": {
    "colab": {
      "provenance": []
    },
    "kernelspec": {
      "name": "python3",
      "display_name": "Python 3"
    },
    "language_info": {
      "name": "python"
    }
  },
  "cells": [
    {
      "cell_type": "markdown",
      "source": [
        "# **DEEP LEARNING FOR COMPUTER SYSTEM**\n",
        "# **Chapter 5: The Advanced CNN architectures**\n",
        "\n",
        "\n",
        "## **AlexNet implementation with Keras**\n",
        "\n",
        "---"
      ],
      "metadata": {
        "id": "0XzVvetbZXlk"
      }
    },
    {
      "cell_type": "markdown",
      "source": [
        "## 1. Import Library"
      ],
      "metadata": {
        "id": "-CgOTsr1ZzLh"
      }
    },
    {
      "cell_type": "code",
      "execution_count": 4,
      "metadata": {
        "id": "5DHtnlG_ZQye"
      },
      "outputs": [],
      "source": [
        "from keras.models import Sequential\n",
        "from keras.layers import Conv2D, AveragePooling2D, MaxPooling2D, Dense, \\\n",
        "  Flatten, BatchNormalization, Dropout\n",
        "from keras.regularizers import l2"
      ]
    },
    {
      "cell_type": "markdown",
      "source": [
        "## 2. Define model Architecture"
      ],
      "metadata": {
        "id": "3V1NRfg4aAqQ"
      }
    },
    {
      "cell_type": "code",
      "source": [
        "model_name = 'Alexnet'\n",
        "input_shape = (227, 227, 3)"
      ],
      "metadata": {
        "id": "BpaIustKa7xJ"
      },
      "execution_count": 5,
      "outputs": []
    },
    {
      "cell_type": "code",
      "source": [
        "model = Sequential(name=model_name)\n",
        "\n",
        "# Conv1 + Pool + BN\n",
        "model.add(Conv2D(96, 11, strides=(4, 4), kernel_regularizer=l2(0.0005),\n",
        "                 input_shape=input_shape, activation='relu'))\n",
        "model.add(MaxPooling2D(3, 2))\n",
        "model.add(BatchNormalization())\n",
        "\n",
        "# Conv2 + Pool + BN\n",
        "model.add(Conv2D(256, 5, kernel_regularizer=l2(0.0005), padding='same',\n",
        "                 activation='relu'))\n",
        "model.add(MaxPooling2D(3, 2))\n",
        "model.add(BatchNormalization())\n",
        "\n",
        "# Conv3 + BN\n",
        "model.add(Conv2D(384, 3, kernel_regularizer=l2(0.0005), padding='same',\n",
        "                 activation='relu'))\n",
        "model.add(BatchNormalization())\n",
        "\n",
        "# Conv4 + BN\n",
        "model.add(Conv2D(384, 3, kernel_regularizer=l2(0.0005), padding='same',\n",
        "                 activation='relu'))\n",
        "model.add(BatchNormalization())\n",
        "\n",
        "# Conv5 + Pool + BN\n",
        "model.add(Conv2D(256, 3, kernel_regularizer=l2(0.0005), padding='same',\n",
        "                 activation='relu'))\n",
        "model.add(MaxPooling2D(3, 2))\n",
        "model.add(BatchNormalization())\n",
        "\n",
        "# Flatten\n",
        "model.add(Flatten())\n",
        "\n",
        "# FC7\n",
        "model.add(Dense(4096, activation='relu'))\n",
        "\n",
        "# FC8\n",
        "model.add(Dense(4096, activation='relu'))\n",
        "\n",
        "# FC9\n",
        "model.add(Dense(1000, activation='softmax'))\n",
        "\n",
        "model.summary()"
      ],
      "metadata": {
        "colab": {
          "base_uri": "https://localhost:8080/"
        },
        "id": "Lp-hMlrHaDfx",
        "outputId": "d58f6f0d-24e1-4a06-ca79-a0e42ed87afa"
      },
      "execution_count": 8,
      "outputs": [
        {
          "output_type": "stream",
          "name": "stdout",
          "text": [
            "Model: \"Alexnet\"\n",
            "_________________________________________________________________\n",
            " Layer (type)                Output Shape              Param #   \n",
            "=================================================================\n",
            " conv2d_5 (Conv2D)           (None, 55, 55, 96)        34944     \n",
            "                                                                 \n",
            " max_pooling2d_3 (MaxPoolin  (None, 27, 27, 96)        0         \n",
            " g2D)                                                            \n",
            "                                                                 \n",
            " batch_normalization_5 (Bat  (None, 27, 27, 96)        384       \n",
            " chNormalization)                                                \n",
            "                                                                 \n",
            " conv2d_6 (Conv2D)           (None, 27, 27, 256)       614656    \n",
            "                                                                 \n",
            " max_pooling2d_4 (MaxPoolin  (None, 13, 13, 256)       0         \n",
            " g2D)                                                            \n",
            "                                                                 \n",
            " batch_normalization_6 (Bat  (None, 13, 13, 256)       1024      \n",
            " chNormalization)                                                \n",
            "                                                                 \n",
            " conv2d_7 (Conv2D)           (None, 13, 13, 384)       885120    \n",
            "                                                                 \n",
            " batch_normalization_7 (Bat  (None, 13, 13, 384)       1536      \n",
            " chNormalization)                                                \n",
            "                                                                 \n",
            " conv2d_8 (Conv2D)           (None, 13, 13, 384)       1327488   \n",
            "                                                                 \n",
            " batch_normalization_8 (Bat  (None, 13, 13, 384)       1536      \n",
            " chNormalization)                                                \n",
            "                                                                 \n",
            " conv2d_9 (Conv2D)           (None, 13, 13, 256)       884992    \n",
            "                                                                 \n",
            " max_pooling2d_5 (MaxPoolin  (None, 6, 6, 256)         0         \n",
            " g2D)                                                            \n",
            "                                                                 \n",
            " batch_normalization_9 (Bat  (None, 6, 6, 256)         1024      \n",
            " chNormalization)                                                \n",
            "                                                                 \n",
            " flatten_1 (Flatten)         (None, 9216)              0         \n",
            "                                                                 \n",
            " dense_3 (Dense)             (None, 4096)              37752832  \n",
            "                                                                 \n",
            " dense_4 (Dense)             (None, 4096)              16781312  \n",
            "                                                                 \n",
            " dense_5 (Dense)             (None, 1000)              4097000   \n",
            "                                                                 \n",
            "=================================================================\n",
            "Total params: 62383848 (237.98 MB)\n",
            "Trainable params: 62381096 (237.96 MB)\n",
            "Non-trainable params: 2752 (10.75 KB)\n",
            "_________________________________________________________________\n"
          ]
        }
      ]
    }
  ]
}