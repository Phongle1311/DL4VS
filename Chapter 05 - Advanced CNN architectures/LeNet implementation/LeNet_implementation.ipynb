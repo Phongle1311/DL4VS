{
  "nbformat": 4,
  "nbformat_minor": 0,
  "metadata": {
    "colab": {
      "provenance": [],
      "gpuType": "T4"
    },
    "kernelspec": {
      "name": "python3",
      "display_name": "Python 3"
    },
    "language_info": {
      "name": "python"
    },
    "accelerator": "GPU"
  },
  "cells": [
    {
      "cell_type": "markdown",
      "source": [
        "# **DEEP LEARNING FOR COMPUTER SYSTEM**\n",
        "# **Chapter 5: The Advanced CNN architectures**\n",
        "\n",
        "\n",
        "## **LeNet implementation with Keras and MNIST dataset**\n",
        "\n",
        "---"
      ],
      "metadata": {
        "id": "RR2d5FFqxtVE"
      }
    },
    {
      "cell_type": "markdown",
      "source": [
        "## 1. Load dataset"
      ],
      "metadata": {
        "id": "gUHRWR6ix62r"
      }
    },
    {
      "cell_type": "code",
      "execution_count": 5,
      "metadata": {
        "colab": {
          "base_uri": "https://localhost:8080/"
        },
        "id": "zTMnWb3ew24_",
        "outputId": "90dc51f1-1271-4911-be01-d717e0dcf8a2"
      },
      "outputs": [
        {
          "output_type": "stream",
          "name": "stdout",
          "text": [
            "#train examples:  60000\n",
            "#test examples:  10000\n",
            "X_train shape: (60000, 28, 28)\n"
          ]
        }
      ],
      "source": [
        "from keras.datasets import mnist\n",
        "\n",
        "(X_train, y_train), (X_test, y_test) = mnist.load_data()\n",
        "\n",
        "print(\"#train examples: \", len(X_train))\n",
        "print(\"#test examples: \", len(X_test))\n",
        "print('X_train shape:', X_train.shape)"
      ]
    },
    {
      "cell_type": "markdown",
      "source": [
        "## 2. Preprocessing image"
      ],
      "metadata": {
        "id": "rjR7eyiKyFwh"
      }
    },
    {
      "cell_type": "code",
      "source": [
        "# Normalize\n",
        "import numpy as np\n",
        "\n",
        "mean = np.mean(X_train)\n",
        "std = np.std(X_train)\n",
        "X_train = (X_train-mean)/(std+1e-7)\n",
        "X_test = (X_test-mean)/(std+1e-7)"
      ],
      "metadata": {
        "id": "Wu987rtvyIpb"
      },
      "execution_count": 6,
      "outputs": []
    },
    {
      "cell_type": "code",
      "source": [
        "# Encode categorical label using one-hot\n",
        "from keras.utils import to_categorical\n",
        "\n",
        "n_classes = 10\n",
        "\n",
        "y_train = to_categorical(y_train, n_classes)\n",
        "y_test = to_categorical(y_test, n_classes)"
      ],
      "metadata": {
        "id": "FCPOUFxyyMJp"
      },
      "execution_count": 7,
      "outputs": []
    },
    {
      "cell_type": "code",
      "source": [
        "# reshape input image\n",
        "w, h = 28, 28\n",
        "X_train = X_train.reshape(len(X_train), w, h, 1)\n",
        "X_test = X_test.reshape(len(X_test), w, h, 1)"
      ],
      "metadata": {
        "id": "TVTsaugHyRFi"
      },
      "execution_count": 8,
      "outputs": []
    },
    {
      "cell_type": "markdown",
      "source": [
        "## 3. Define the model's architecture"
      ],
      "metadata": {
        "id": "3CJi4P5dyzK1"
      }
    },
    {
      "cell_type": "code",
      "source": [
        "from keras.models import Sequential\n",
        "from keras.layers import Dense, Flatten, Conv2D, AveragePooling2D\n",
        "\n",
        "model = Sequential()\n",
        "\n",
        "model.add(Conv2D(6, 5, padding='same', activation='tanh',\n",
        "                 input_shape=(28, 28, 1)))\n",
        "\n",
        "model.add(AveragePooling2D(pool_size=2, strides=2))\n",
        "\n",
        "model.add(Conv2D(16, 5, activation='tanh'))\n",
        "\n",
        "model.add(AveragePooling2D(pool_size=2, strides=2))\n",
        "\n",
        "model.add(Conv2D(120, 5, activation='tanh'))\n",
        "\n",
        "model.add(Flatten())\n",
        "\n",
        "model.add(Dense(84, activation='relu'))\n",
        "\n",
        "model.add(Dense(10, activation='softmax'))\n",
        "\n",
        "model.summary()"
      ],
      "metadata": {
        "colab": {
          "base_uri": "https://localhost:8080/"
        },
        "id": "kkSgSzyYyzw0",
        "outputId": "e1b6eccb-d35b-4d10-8fca-f4c59267bba2"
      },
      "execution_count": 9,
      "outputs": [
        {
          "output_type": "stream",
          "name": "stdout",
          "text": [
            "Model: \"sequential\"\n",
            "_________________________________________________________________\n",
            " Layer (type)                Output Shape              Param #   \n",
            "=================================================================\n",
            " conv2d (Conv2D)             (None, 28, 28, 6)         156       \n",
            "                                                                 \n",
            " average_pooling2d (Average  (None, 14, 14, 6)         0         \n",
            " Pooling2D)                                                      \n",
            "                                                                 \n",
            " conv2d_1 (Conv2D)           (None, 10, 10, 16)        2416      \n",
            "                                                                 \n",
            " average_pooling2d_1 (Avera  (None, 5, 5, 16)          0         \n",
            " gePooling2D)                                                    \n",
            "                                                                 \n",
            " conv2d_2 (Conv2D)           (None, 1, 1, 120)         48120     \n",
            "                                                                 \n",
            " flatten (Flatten)           (None, 120)               0         \n",
            "                                                                 \n",
            " dense (Dense)               (None, 84)                10164     \n",
            "                                                                 \n",
            " dense_1 (Dense)             (None, 10)                850       \n",
            "                                                                 \n",
            "=================================================================\n",
            "Total params: 61706 (241.04 KB)\n",
            "Trainable params: 61706 (241.04 KB)\n",
            "Non-trainable params: 0 (0.00 Byte)\n",
            "_________________________________________________________________\n"
          ]
        }
      ]
    },
    {
      "cell_type": "markdown",
      "source": [
        "## 4. Compile and Train"
      ],
      "metadata": {
        "id": "O-K1ebov2IUU"
      }
    },
    {
      "cell_type": "code",
      "source": [
        "model.compile(loss='categorical_crossentropy', optimizer='adam',\n",
        "              metrics=['accuracy'])"
      ],
      "metadata": {
        "id": "nqoX2nWA2B_x"
      },
      "execution_count": 10,
      "outputs": []
    },
    {
      "cell_type": "markdown",
      "source": [
        "The authors used a manual decay schedule:"
      ],
      "metadata": {
        "id": "8JZLGkBZ20dS"
      }
    },
    {
      "cell_type": "code",
      "source": [
        "def lr_schedule(epoch):\n",
        "  if epoch <=2: return 5e-4\n",
        "  elif epoch <=5: return 2e-4\n",
        "  elif epoch <=9: return 5e-5\n",
        "  return 1e-5"
      ],
      "metadata": {
        "id": "jt0R-he-2U4E"
      },
      "execution_count": 11,
      "outputs": []
    },
    {
      "cell_type": "code",
      "source": [
        "from keras.callbacks import ModelCheckpoint, LearningRateScheduler\n",
        "\n",
        "checkpointer = ModelCheckpoint(filepath='model.weights.best.keras', verbose=1,\n",
        "                               save_best_only=True)\n",
        "\n",
        "lr_scheduler = LearningRateScheduler(lr_schedule)\n",
        "\n",
        "hist = model.fit(X_train, y_train, batch_size=32, epochs=20, verbose=2,\n",
        "                 validation_data=(X_test, y_test),\n",
        "                 callbacks=[checkpointer, lr_scheduler])"
      ],
      "metadata": {
        "colab": {
          "base_uri": "https://localhost:8080/"
        },
        "id": "Eeaz4UJM3SbD",
        "outputId": "d49c4a76-3ee7-4c35-84cf-623f4fa41fcb"
      },
      "execution_count": 12,
      "outputs": [
        {
          "output_type": "stream",
          "name": "stdout",
          "text": [
            "Epoch 1/20\n",
            "\n",
            "Epoch 1: val_loss improved from inf to 0.10006, saving model to model.weights.best.keras\n",
            "1875/1875 - 12s - loss: 0.2337 - accuracy: 0.9301 - val_loss: 0.1001 - val_accuracy: 0.9688 - lr: 5.0000e-04 - 12s/epoch - 7ms/step\n",
            "Epoch 2/20\n",
            "\n",
            "Epoch 2: val_loss improved from 0.10006 to 0.07047, saving model to model.weights.best.keras\n",
            "1875/1875 - 8s - loss: 0.0847 - accuracy: 0.9733 - val_loss: 0.0705 - val_accuracy: 0.9777 - lr: 5.0000e-04 - 8s/epoch - 4ms/step\n",
            "Epoch 3/20\n",
            "\n",
            "Epoch 3: val_loss improved from 0.07047 to 0.05520, saving model to model.weights.best.keras\n",
            "1875/1875 - 8s - loss: 0.0581 - accuracy: 0.9816 - val_loss: 0.0552 - val_accuracy: 0.9805 - lr: 5.0000e-04 - 8s/epoch - 4ms/step\n",
            "Epoch 4/20\n",
            "\n",
            "Epoch 4: val_loss improved from 0.05520 to 0.04119, saving model to model.weights.best.keras\n",
            "1875/1875 - 7s - loss: 0.0344 - accuracy: 0.9897 - val_loss: 0.0412 - val_accuracy: 0.9860 - lr: 2.0000e-04 - 7s/epoch - 4ms/step\n",
            "Epoch 5/20\n",
            "\n",
            "Epoch 5: val_loss improved from 0.04119 to 0.03918, saving model to model.weights.best.keras\n",
            "1875/1875 - 8s - loss: 0.0300 - accuracy: 0.9911 - val_loss: 0.0392 - val_accuracy: 0.9870 - lr: 2.0000e-04 - 8s/epoch - 4ms/step\n",
            "Epoch 6/20\n",
            "\n",
            "Epoch 6: val_loss improved from 0.03918 to 0.03839, saving model to model.weights.best.keras\n",
            "1875/1875 - 9s - loss: 0.0260 - accuracy: 0.9919 - val_loss: 0.0384 - val_accuracy: 0.9875 - lr: 2.0000e-04 - 9s/epoch - 5ms/step\n",
            "Epoch 7/20\n",
            "\n",
            "Epoch 7: val_loss improved from 0.03839 to 0.03306, saving model to model.weights.best.keras\n",
            "1875/1875 - 7s - loss: 0.0182 - accuracy: 0.9951 - val_loss: 0.0331 - val_accuracy: 0.9896 - lr: 5.0000e-05 - 7s/epoch - 4ms/step\n",
            "Epoch 8/20\n",
            "\n",
            "Epoch 8: val_loss improved from 0.03306 to 0.03280, saving model to model.weights.best.keras\n",
            "1875/1875 - 6s - loss: 0.0166 - accuracy: 0.9956 - val_loss: 0.0328 - val_accuracy: 0.9889 - lr: 5.0000e-05 - 6s/epoch - 3ms/step\n",
            "Epoch 9/20\n",
            "\n",
            "Epoch 9: val_loss did not improve from 0.03280\n",
            "1875/1875 - 7s - loss: 0.0157 - accuracy: 0.9959 - val_loss: 0.0331 - val_accuracy: 0.9895 - lr: 5.0000e-05 - 7s/epoch - 4ms/step\n",
            "Epoch 10/20\n",
            "\n",
            "Epoch 10: val_loss did not improve from 0.03280\n",
            "1875/1875 - 6s - loss: 0.0149 - accuracy: 0.9962 - val_loss: 0.0335 - val_accuracy: 0.9888 - lr: 5.0000e-05 - 6s/epoch - 3ms/step\n",
            "Epoch 11/20\n",
            "\n",
            "Epoch 11: val_loss improved from 0.03280 to 0.03217, saving model to model.weights.best.keras\n",
            "1875/1875 - 8s - loss: 0.0129 - accuracy: 0.9971 - val_loss: 0.0322 - val_accuracy: 0.9893 - lr: 1.0000e-05 - 8s/epoch - 4ms/step\n",
            "Epoch 12/20\n",
            "\n",
            "Epoch 12: val_loss did not improve from 0.03217\n",
            "1875/1875 - 10s - loss: 0.0127 - accuracy: 0.9971 - val_loss: 0.0323 - val_accuracy: 0.9892 - lr: 1.0000e-05 - 10s/epoch - 5ms/step\n",
            "Epoch 13/20\n",
            "\n",
            "Epoch 13: val_loss improved from 0.03217 to 0.03215, saving model to model.weights.best.keras\n",
            "1875/1875 - 11s - loss: 0.0125 - accuracy: 0.9973 - val_loss: 0.0321 - val_accuracy: 0.9893 - lr: 1.0000e-05 - 11s/epoch - 6ms/step\n",
            "Epoch 14/20\n",
            "\n",
            "Epoch 14: val_loss improved from 0.03215 to 0.03204, saving model to model.weights.best.keras\n",
            "1875/1875 - 6s - loss: 0.0123 - accuracy: 0.9973 - val_loss: 0.0320 - val_accuracy: 0.9894 - lr: 1.0000e-05 - 6s/epoch - 3ms/step\n",
            "Epoch 15/20\n",
            "\n",
            "Epoch 15: val_loss did not improve from 0.03204\n",
            "1875/1875 - 7s - loss: 0.0122 - accuracy: 0.9974 - val_loss: 0.0323 - val_accuracy: 0.9892 - lr: 1.0000e-05 - 7s/epoch - 4ms/step\n",
            "Epoch 16/20\n",
            "\n",
            "Epoch 16: val_loss improved from 0.03204 to 0.03197, saving model to model.weights.best.keras\n",
            "1875/1875 - 7s - loss: 0.0120 - accuracy: 0.9974 - val_loss: 0.0320 - val_accuracy: 0.9894 - lr: 1.0000e-05 - 7s/epoch - 4ms/step\n",
            "Epoch 17/20\n",
            "\n",
            "Epoch 17: val_loss did not improve from 0.03197\n",
            "1875/1875 - 7s - loss: 0.0118 - accuracy: 0.9974 - val_loss: 0.0324 - val_accuracy: 0.9892 - lr: 1.0000e-05 - 7s/epoch - 4ms/step\n",
            "Epoch 18/20\n",
            "\n",
            "Epoch 18: val_loss did not improve from 0.03197\n",
            "1875/1875 - 7s - loss: 0.0117 - accuracy: 0.9975 - val_loss: 0.0321 - val_accuracy: 0.9892 - lr: 1.0000e-05 - 7s/epoch - 4ms/step\n",
            "Epoch 19/20\n",
            "\n",
            "Epoch 19: val_loss did not improve from 0.03197\n",
            "1875/1875 - 6s - loss: 0.0115 - accuracy: 0.9976 - val_loss: 0.0324 - val_accuracy: 0.9892 - lr: 1.0000e-05 - 6s/epoch - 3ms/step\n",
            "Epoch 20/20\n",
            "\n",
            "Epoch 20: val_loss did not improve from 0.03197\n",
            "1875/1875 - 7s - loss: 0.0114 - accuracy: 0.9976 - val_loss: 0.0322 - val_accuracy: 0.9892 - lr: 1.0000e-05 - 7s/epoch - 4ms/step\n"
          ]
        }
      ]
    },
    {
      "cell_type": "markdown",
      "source": [
        "## 5. Evaluation"
      ],
      "metadata": {
        "id": "VKhJ8IkW4J85"
      }
    },
    {
      "cell_type": "code",
      "source": [
        "model.load_weights('model.weights.best.keras')"
      ],
      "metadata": {
        "id": "YciVEzRH4GEG"
      },
      "execution_count": 13,
      "outputs": []
    },
    {
      "cell_type": "code",
      "source": [
        "score = model.evaluate(X_test, y_test, verbose=0)\n",
        "\n",
        "print('Test accuracy: %.4f%%' % (score[1]*100))"
      ],
      "metadata": {
        "colab": {
          "base_uri": "https://localhost:8080/"
        },
        "id": "YhYkW9OW4QGW",
        "outputId": "685c7c60-e939-4036-bb2d-6f490b12f6b6"
      },
      "execution_count": 14,
      "outputs": [
        {
          "output_type": "stream",
          "name": "stdout",
          "text": [
            "Test accuracy: 98.9400%\n"
          ]
        }
      ]
    },
    {
      "cell_type": "code",
      "source": [
        "import matplotlib.pyplot as plt\n",
        "\n",
        "fig, ax = plt.subplots()\n",
        "\n",
        "ax.plot(hist.history['accuracy'], 'o-', label='train')\n",
        "ax.plot(hist.history['val_accuracy'], 'x-', label='validation')\n",
        "ax.legend(loc=0)\n",
        "ax.set_title('Training/Validation acc per Epoch')\n",
        "ax.set_xlabel('Epoch')\n",
        "ax.set_ylabel('acc')\n",
        "plt.show()"
      ],
      "metadata": {
        "colab": {
          "base_uri": "https://localhost:8080/",
          "height": 472
        },
        "id": "ojMOkt6k4bX2",
        "outputId": "b4aae51a-339c-4629-b66e-69bd0c47e56f"
      },
      "execution_count": 15,
      "outputs": [
        {
          "output_type": "display_data",
          "data": {
            "text/plain": [
              "<Figure size 640x480 with 1 Axes>"
            ],
            "image/png": "[encoded data removed]"
          },
          "metadata": {}
        }
      ]
    },
    {
      "cell_type": "code",
      "source": [
        "fig, ax = plt.subplots()\n",
        "\n",
        "ax.plot(hist.history['loss'], 'o-', label='train')\n",
        "ax.plot(hist.history['val_loss'], 'x-', label='validation')\n",
        "ax.legend(loc=0)\n",
        "ax.set_title('Training/Validation loss per Epoch')\n",
        "ax.set_xlabel('Epoch')\n",
        "ax.set_ylabel('loss')\n",
        "plt.show()"
      ],
      "metadata": {
        "colab": {
          "base_uri": "https://localhost:8080/",
          "height": 472
        },
        "id": "kvMLBDbf5PHi",
        "outputId": "58a5e926-d111-4e36-d00e-ef8845035b4f"
      },
      "execution_count": 16,
      "outputs": [
        {
          "output_type": "display_data",
          "data": {
            "text/plain": [
              "<Figure size 640x480 with 1 Axes>"
            ],
            "image/png": "[encoded data removed]"
          },
          "metadata": {}
        }
      ]
    }
  ]
}